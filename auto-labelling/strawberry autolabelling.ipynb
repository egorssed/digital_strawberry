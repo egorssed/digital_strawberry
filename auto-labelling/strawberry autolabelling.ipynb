{
 "cells": [
  {
   "cell_type": "markdown",
   "id": "imposed-offer",
   "metadata": {},
   "source": [
    "### Before running:\n",
    "Please set the file structure as follows: \n",
    "\n",
    "* parent folder\n",
    "\n",
    "    * backgrounds - includes all background pictures\n",
    "\n",
    "    * dataset - generated images and masks will be placed here \n",
    "\n",
    "        * images\n",
    "\n",
    "        * masks\n",
    "\n",
    "    * strawberry autolabelling.ipynb\n",
    "\n",
    "    * strawberry.png\n",
    "\n",
    "    * strawberry2.png"
   ]
  },
  {
   "cell_type": "code",
   "execution_count": null,
   "id": "global-stamp",
   "metadata": {},
   "outputs": [],
   "source": [
    "from tqdm import tqdm\n",
    "import os\n",
    "import numpy as np\n",
    "import matplotlib.pyplot as plt\n",
    "import cv2\n",
    "import pandas as pd"
   ]
  },
  {
   "cell_type": "code",
   "execution_count": null,
   "id": "naughty-archives",
   "metadata": {},
   "outputs": [],
   "source": [
    "DATASET_PATH = \"backgrounds\" \n",
    "NEW_DATASET_PATH = \"dataset\"\n",
    "\n",
    "files = os.listdir(DATASET_PATH)\n",
    "len(files), files[0]"
   ]
  },
  {
   "cell_type": "code",
   "execution_count": null,
   "id": "derived-light",
   "metadata": {},
   "outputs": [],
   "source": [
    "MAX_SCALE = 1.5 # Max scale of strawberries during insertation"
   ]
  },
  {
   "cell_type": "code",
   "execution_count": null,
   "id": "angry-immune",
   "metadata": {},
   "outputs": [],
   "source": []
  },
  {
   "cell_type": "markdown",
   "id": "active-barrier",
   "metadata": {},
   "source": [
    "#### Load strawbery crops"
   ]
  },
  {
   "cell_type": "code",
   "execution_count": null,
   "id": "funky-linux",
   "metadata": {},
   "outputs": [],
   "source": [
    "image_to_insert_options = []\n",
    "\n",
    "for file in [\"strawberry1.png\", \"strawberry2.png\"]:\n",
    "    strawberry = cv2.imread(file, flags=cv2.IMREAD_UNCHANGED)\n",
    "    strawberry = cv2.cvtColor(strawberry, cv2.COLOR_BGRA2RGBA)\n",
    "    strawberry = cv2.rotate(strawberry, cv2.ROTATE_180)\n",
    "    image_to_insert_options.append(strawberry)\n",
    "    \n",
    "image_to_insert_size = 100\n",
    "x_pad, y_pad = image_to_insert_size * MAX_SCALE, image_to_insert_size * MAX_SCALE # Insertation paddings"
   ]
  },
  {
   "cell_type": "code",
   "execution_count": null,
   "id": "golden-accent",
   "metadata": {},
   "outputs": [],
   "source": []
  },
  {
   "cell_type": "code",
   "execution_count": null,
   "id": "material-prototype",
   "metadata": {},
   "outputs": [],
   "source": []
  },
  {
   "cell_type": "markdown",
   "id": "wooden-berlin",
   "metadata": {},
   "source": [
    "#### Modify colors in hsv space"
   ]
  },
  {
   "cell_type": "code",
   "execution_count": null,
   "id": "moving-supervisor",
   "metadata": {},
   "outputs": [],
   "source": [
    "def change_hsv(img, h_change=0, s_change=0, v_change=0):\n",
    "    hsv = cv2.cvtColor(img, cv2.COLOR_BGR2HSV)\n",
    "    h, s, v = cv2.split(hsv)\n",
    "        \n",
    "    h = cv2.add(h, h_change)\n",
    "    h[h > 180] -= 180\n",
    "    h[h < 0] += 180\n",
    "    \n",
    "    s = cv2.add(s,s_change)\n",
    "    s[s > 255] = 255\n",
    "    s[s < 0] = 0\n",
    "    \n",
    "    v = cv2.add(v,v_change)\n",
    "    v[v > 255] = 255\n",
    "    v[v < 0] = 0\n",
    "    \n",
    "    final_hsv = cv2.merge((h, s, v))\n",
    "    img = cv2.cvtColor(final_hsv, cv2.COLOR_HSV2BGR)\n",
    "    \n",
    "    return img"
   ]
  },
  {
   "cell_type": "code",
   "execution_count": null,
   "id": "geological-terror",
   "metadata": {},
   "outputs": [],
   "source": []
  },
  {
   "cell_type": "code",
   "execution_count": null,
   "id": "official-adventure",
   "metadata": {},
   "outputs": [],
   "source": []
  },
  {
   "cell_type": "markdown",
   "id": "exceptional-israeli",
   "metadata": {},
   "source": [
    "#### Do augmentations on the image"
   ]
  },
  {
   "cell_type": "code",
   "execution_count": null,
   "id": "comfortable-prompt",
   "metadata": {},
   "outputs": [],
   "source": [
    "def modify_image(image_to_insert):\n",
    "    red2green = -57 # shift between colors in hue space\n",
    "    \n",
    "    # Rotate\n",
    "    def rotate_image(image, angle):\n",
    "        image_center = tuple(np.array(image_to_insert.shape[1::-1]) / 2)\n",
    "        rot_mat = cv2.getRotationMatrix2D(image_center, angle, 1.0)\n",
    "        \n",
    "        return cv2.warpAffine(image_to_insert, rot_mat, image_to_insert.shape[1::-1], flags=cv2.INTER_LINEAR)\n",
    "\n",
    "    image_to_insert = rotate_image(image_to_insert, angle=np.random.randint(-30, 30))\n",
    "\n",
    "    # Flip\n",
    "    if np.random.random() > 0.5:\n",
    "        image_to_insert = cv2.flip(image_to_insert, 1)\n",
    "\n",
    "    # Scale\n",
    "    scale = np.random.random() + 0.5\n",
    "    image_to_insert_resized = cv2.resize(image_to_insert, None, fx=scale, fy= scale)\n",
    "\n",
    "    # Take the mask\n",
    "    mask_strawberry = (image_to_insert_resized[:, :, 3] == 255) \n",
    "    image_to_insert_resized = cv2.cvtColor(image_to_insert_resized, cv2.COLOR_RGBA2RGB)\n",
    "\n",
    "    # Change color of strawberry\n",
    "    r = np.random.random()\n",
    "    if r > 0.66:\n",
    "        # Keep red\n",
    "        h_change = np.random.randint(-5, 5)\n",
    "        s_change = np.random.randint(-25, -15)\n",
    "        v_change = np.random.randint(-25, -15)\n",
    "    elif r > 0.33:\n",
    "        # Make half red\n",
    "        h_change = np.random.randint(red2green + 30, red2green + 40)\n",
    "        s_change = np.random.randint(-5, 5)\n",
    "        v_change = np.random.randint(-5, 5)\n",
    "    else:\n",
    "        # Make green\n",
    "        h_change = np.random.randint(red2green + 20, red2green + 25)\n",
    "        s_change = np.random.randint(-150, -100)\n",
    "        v_change = np.random.randint(30, 40)\n",
    "\n",
    "    image_to_insert_resized = change_hsv(image_to_insert_resized, \n",
    "                                         h_change=h_change, s_change=s_change, v_change=v_change)\n",
    "\n",
    "    return image_to_insert_resized, mask_strawberry"
   ]
  },
  {
   "cell_type": "code",
   "execution_count": null,
   "id": "plain-breakfast",
   "metadata": {},
   "outputs": [],
   "source": []
  },
  {
   "cell_type": "code",
   "execution_count": null,
   "id": "enormous-toolbox",
   "metadata": {},
   "outputs": [],
   "source": [
    "backgrounds = os.listdir(os.path.join(DATASET_PATH))\n",
    "len(backgrounds)"
   ]
  },
  {
   "cell_type": "code",
   "execution_count": null,
   "id": "reserved-basis",
   "metadata": {},
   "outputs": [],
   "source": []
  },
  {
   "cell_type": "markdown",
   "id": "written-faculty",
   "metadata": {},
   "source": [
    "#### Generate new dataset"
   ]
  },
  {
   "cell_type": "code",
   "execution_count": null,
   "id": "gorgeous-milan",
   "metadata": {
    "scrolled": true
   },
   "outputs": [],
   "source": [
    "for filename in tqdm(backgrounds):\n",
    "    \n",
    "    # Prepare background\n",
    "    background = cv2.imread(os.path.join(DATASET_PATH, filename))\n",
    "    background = cv2.cvtColor(background, cv2.COLOR_BGR2RGB)\n",
    "\n",
    "    max_dimension = max(background.shape)\n",
    "    scale = 1000/max_dimension\n",
    "\n",
    "    background = cv2.resize(background, None, fx=scale, fy=scale)\n",
    "\n",
    "    # Find green regions to insert there strawberris\n",
    "    background_hsv = cv2.cvtColor(background, cv2.COLOR_RGB2HSV)\n",
    "    mask_green = cv2.inRange(background_hsv, (36, 25, 25), (86, 255,255)) # Green color range (36,25,25) ~ (86, 255,255)\n",
    "\n",
    "    kernel = cv2.getStructuringElement(cv2.MORPH_ELLIPSE, (15, 15)) # Clean up the mask\n",
    "    mask_green_closed = cv2.morphologyEx(mask_green, cv2.MORPH_CLOSE, kernel)\n",
    "    mask_green_clean = cv2.morphologyEx(mask_green_closed, cv2.MORPH_OPEN, kernel)\n",
    "\n",
    "    # Get green pixels indices\n",
    "    X, Y = np.where(mask_green_clean == 255)\n",
    "    X, Y = zip(*[(x, y) for x, y in zip(X, Y) # Keep pixels within distance from borders\n",
    "            if 0 < x < background.shape[0] - x_pad and 0 < y < background.shape[1] - y_pad])\n",
    "\n",
    "    for iteration in range(3): # Use one background image to generate several (3) new images for dataset\n",
    "        # Choose places to insert strawberries with random\n",
    "        n_strawberries_to_insert = 5\n",
    "        pixels_to_insert_ind = np.random.randint(0, len(X), n_strawberries_to_insert)\n",
    "\n",
    "        # Insert strawberries\n",
    "        new_image = background.copy()\n",
    "\n",
    "        segmentation_masks = np.zeros(background.shape[0:2])\n",
    "        bboxes = []\n",
    "\n",
    "        for i, ind in enumerate(pixels_to_insert_ind): # Insert every strawberry\n",
    "            image_to_insert = image_to_insert_options[np.random.randint(0, len(image_to_insert_options))]\n",
    "            \n",
    "            # Modify image\n",
    "            image_to_insert_resized, mask_strawberry = modify_image(image_to_insert)\n",
    "            \n",
    "            # Insert crop\n",
    "            x, y = X[ind], Y[ind]\n",
    "            image_crop = new_image[x: x + image_to_insert_resized.shape[0], y: y + image_to_insert_resized.shape[1], :]\n",
    "            image_crop[np.where(mask_strawberry)] = image_to_insert_resized[np.where(mask_strawberry)]\n",
    "\n",
    "            # Create labels\n",
    "            segmentation_masks[x: x + image_to_insert_resized.shape[0], \n",
    "                               y: y + image_to_insert_resized.shape[1]][mask_strawberry] = i + 1\n",
    "            \n",
    "            bboxes.append([x, y, image_to_insert_resized.shape[0], image_to_insert_resized.shape[1]])\n",
    "\n",
    "\n",
    "        # Save new image and mask\n",
    "        new_image = cv2.cvtColor(new_image, cv2.COLOR_RGB2BGR)\n",
    "        cv2.imwrite(os.path.join(NEW_DATASET_PATH, \"images\", f\"{filename}_modified_{iteration}.png\"), new_image)\n",
    "\n",
    "        with open(os.path.join(NEW_DATASET_PATH, \"masks\", f\"{filename}_modified_{iteration}.png\"), \"wb\") as f:\n",
    "            np.save(f, segmentation_masks.astype(np.int8))\n",
    "#"
   ]
  }
 ],
 "metadata": {
  "kernelspec": {
   "display_name": "Python 3",
   "language": "python",
   "name": "python3"
  },
  "language_info": {
   "codemirror_mode": {
    "name": "ipython",
    "version": 3
   },
   "file_extension": ".py",
   "mimetype": "text/x-python",
   "name": "python",
   "nbconvert_exporter": "python",
   "pygments_lexer": "ipython3",
   "version": "3.8.10"
  }
 },
 "nbformat": 4,
 "nbformat_minor": 5
}
